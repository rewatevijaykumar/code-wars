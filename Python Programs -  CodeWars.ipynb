{
 "cells": [
  {
   "cell_type": "code",
   "execution_count": 2,
   "id": "83123668",
   "metadata": {},
   "outputs": [],
   "source": [
    "# Python Programs"
   ]
  },
  {
   "cell_type": "code",
   "execution_count": 24,
   "id": "b28f11a9",
   "metadata": {},
   "outputs": [
    {
     "data": {
      "text/plain": [
       "1900"
      ]
     },
     "execution_count": 24,
     "metadata": {},
     "output_type": "execute_result"
    }
   ],
   "source": [
    "# Write a program to convert Roman Numerals Literals to integer\n",
    "'''\n",
    "Roman Numerals - MCM -> IF current M > previous C: M - 2C ELSE CURRENT M\n",
    "'''\n",
    "def roman_to_integer(s):\n",
    "    values = {\n",
    "            'I':1,'V':5, 'X':10, 'L':50, 'C':100,'D':500, 'M':1000\n",
    "    }\n",
    "    sum=0\n",
    "    for i in range(len(s)):\n",
    "        if i > 0  and values[s[i]] > values[s[i-1]]:\n",
    "            sum += values[s[i]]-2*values[s[i-1]]\n",
    "        else:\n",
    "            sum += values[s[i]]\n",
    "    return sum\n",
    "roman_to_integer('MCM')"
   ]
  },
  {
   "cell_type": "code",
   "execution_count": 78,
   "id": "4f8cbce7",
   "metadata": {},
   "outputs": [
    {
     "data": {
      "text/plain": [
       "'MDCCCCLXXXXIIII'"
      ]
     },
     "execution_count": 78,
     "metadata": {},
     "output_type": "execute_result"
    }
   ],
   "source": [
    "# Write a program to convert integer to Roman Numerals Literals\n",
    "# Recursive\n",
    "def int_to_roman(num):\n",
    "    table = {\n",
    "        1: 'I',\n",
    "        5: 'V',\n",
    "        10: 'X',\n",
    "        50: 'L',\n",
    "        100: 'C',\n",
    "        500: 'D',\n",
    "        1000: 'M'\n",
    "    }\n",
    "    if num == 0:\n",
    "        return ''\n",
    "    if num in table:\n",
    "        return table[num]\n",
    "    \n",
    "    base_value = 0\n",
    "    for value in table:\n",
    "        if base_value < value < num :\n",
    "            base_value = value\n",
    "    return ((num//base_value) * table[base_value]) + int_to_roman(num % base_value)\n",
    "     \n",
    "int_to_roman(1994)"
   ]
  },
  {
   "cell_type": "code",
   "execution_count": 76,
   "id": "ec3583e2",
   "metadata": {},
   "outputs": [],
   "source": [
    "# Non Recursive\n",
    "\n",
    "def int_to_roman(num):\n",
    "    table = {\n",
    "            1: 'I',\n",
    "            5: 'V',\n",
    "            10: 'X',\n",
    "            50: 'L',\n",
    "            100: 'C',\n",
    "            500: 'D',\n",
    "            1000: 'M'\n",
    "        }\n",
    "    roman = \"\"    \n",
    "\n",
    "    while num:\n",
    "\n",
    "        if num == 0:\n",
    "            return roman\n",
    "\n",
    "        if num in table:\n",
    "            return roman + table[num]\n",
    "\n",
    "\n",
    "        base_value = 0\n",
    "        for value in table:\n",
    "            if base_value < value < num:\n",
    "                base_value = value\n",
    "\n",
    "        roman += ((num // base_value) * table[base_value])\n",
    "        num = num % base_value\n",
    "\n",
    "    return  roman\n",
    "    "
   ]
  },
  {
   "cell_type": "code",
   "execution_count": 79,
   "id": "19f4516c",
   "metadata": {},
   "outputs": [
    {
     "data": {
      "text/plain": [
       "'MDCCCCLXXXXIIII'"
      ]
     },
     "execution_count": 79,
     "metadata": {},
     "output_type": "execute_result"
    }
   ],
   "source": [
    "int_to_roman(1994)"
   ]
  },
  {
   "cell_type": "code",
   "execution_count": 81,
   "id": "7a43ea86",
   "metadata": {},
   "outputs": [],
   "source": [
    "# Given an array of integers nums and an integer target, return indices of the two numbers such that they add up to target.\n",
    "\n",
    "# You may assume that each input would have exactly one solution, and you may not use the same element twice.\n",
    "\n",
    "# You can return the answer in any order.\n",
    "\n",
    "# Input: nums = [2,7,11,15], target = 9\n",
    "# Output: [0,1]\n",
    "# Explanation: Because nums[0] + nums[1] == 9, we return [0, 1].\n"
   ]
  },
  {
   "cell_type": "code",
   "execution_count": 108,
   "id": "908b1887",
   "metadata": {},
   "outputs": [
    {
     "name": "stdout",
     "output_type": "stream",
     "text": [
      "(0, 2)\n",
      "(1, 7)\n",
      "(2, 11)\n",
      "(3, 15)\n"
     ]
    }
   ],
   "source": [
    "nums = [2,7,11,15]\n",
    "target = 25\n",
    "\n"
   ]
  },
  {
   "cell_type": "code",
   "execution_count": null,
   "id": "19d41e66",
   "metadata": {},
   "outputs": [],
   "source": [
    "divmod()"
   ]
  },
  {
   "cell_type": "markdown",
   "id": "d56095f2",
   "metadata": {},
   "source": [
    "In this kata you are required to, given a string, replace every letter with its position in the alphabet.\n",
    "\n",
    "If anything in the text isn't a letter, ignore it and don't return it.\n",
    "\n",
    "\"a\" = 1, \"b\" = 2, etc."
   ]
  },
  {
   "cell_type": "code",
   "execution_count": 179,
   "id": "d62f3e6a",
   "metadata": {},
   "outputs": [],
   "source": [
    "#solution 1\n",
    "def alphabet_position(text):\n",
    "    alphabet = {\n",
    "        'a':1,'b':2,'c':3,'d':4,'e':5,'f':6,'g':7,'h':8,'i':9,'j':10,\n",
    "        'k':11,'l':12,'m':13,'n':14,'o':15,'p':16,'q':17,'r':18,'s':19,'t':20,\n",
    "        'u':21,'v':22,'w':23,'x':24,'y':25,'z':26\n",
    "    }\n",
    "    pos = ''\n",
    "    for alpha in text.lower():\n",
    "        if alpha in alphabet:\n",
    "            pos += str(alphabet[alpha]) + ' '\n",
    "    return pos.strip()"
   ]
  },
  {
   "cell_type": "code",
   "execution_count": 172,
   "id": "27090423",
   "metadata": {},
   "outputs": [],
   "source": [
    "# solution 2\n",
    "def alphabet_position(text):\n",
    "    return ' '.join(str(ord(c) - 96) for c in text.lower() if c.isalpha())"
   ]
  },
  {
   "cell_type": "code",
   "execution_count": 180,
   "id": "c9abc429",
   "metadata": {},
   "outputs": [
    {
     "data": {
      "text/plain": [
       "'20 8 5 19 21 14 19 5 20 19 5 20 19 1 20 20 23 5 12 22 5 15 3 12 15 3 11'"
      ]
     },
     "execution_count": 180,
     "metadata": {},
     "output_type": "execute_result"
    }
   ],
   "source": [
    "alphabet_position(\"The sunset sets at twelve o' clock.\")"
   ]
  },
  {
   "cell_type": "markdown",
   "id": "d348bcd2",
   "metadata": {},
   "source": [
    "Deoxyribonucleic acid (DNA) is a chemical found in the nucleus of cells and carries the \"instructions\" for the development and functioning of living organisms.\n",
    "\n",
    "If you want to know more: http://en.wikipedia.org/wiki/DNA\n",
    "\n",
    "In DNA strings, symbols \"A\" and \"T\" are complements of each other, as \"C\" and \"G\". Your function receives one side of the DNA (string, except for Haskell); you need to return the other complementary side. DNA strand is never empty or there is no DNA at all (again, except for Haskell).\n",
    "\n",
    "More similar exercise are found here: http://rosalind.info/problems/list-view/ (source)"
   ]
  },
  {
   "cell_type": "code",
   "execution_count": 218,
   "id": "dc21df59",
   "metadata": {},
   "outputs": [],
   "source": [
    "def DNA_strand(dna):\n",
    "    comp = {\n",
    "        'A':'T',\n",
    "        'T':'A',\n",
    "        'C':'G',\n",
    "        'G':'C'\n",
    "    }\n",
    "    return ''.join(str(comp[strand]) for strand in dna)"
   ]
  },
  {
   "cell_type": "code",
   "execution_count": 219,
   "id": "5096936e",
   "metadata": {},
   "outputs": [
    {
     "data": {
      "text/plain": [
       "'TTTT'"
      ]
     },
     "execution_count": 219,
     "metadata": {},
     "output_type": "execute_result"
    }
   ],
   "source": [
    "DNA_strand(\"AAAA\")"
   ]
  },
  {
   "cell_type": "code",
   "execution_count": 212,
   "id": "c4d78b49",
   "metadata": {},
   "outputs": [],
   "source": [
    "def DNA_strand(dna):\n",
    "    comp = {\n",
    "        'A':'T',\n",
    "        'T':'A',\n",
    "        'C':'G',\n",
    "        'G':'C'\n",
    "    }\n",
    "    test = ''\n",
    "    for strand in dna:\n",
    "        if strand in comp:\n",
    "            test += comp[strand]\n",
    "    return test"
   ]
  },
  {
   "cell_type": "code",
   "execution_count": 213,
   "id": "92c4b6b1",
   "metadata": {},
   "outputs": [
    {
     "data": {
      "text/plain": [
       "'TTTT'"
      ]
     },
     "execution_count": 213,
     "metadata": {},
     "output_type": "execute_result"
    }
   ],
   "source": [
    "DNA_strand(\"AAAA\")"
   ]
  },
  {
   "cell_type": "code",
   "execution_count": 214,
   "id": "3835034b",
   "metadata": {},
   "outputs": [],
   "source": [
    "import string\n",
    "def DNA_strand(dna):\n",
    "    return dna.translate(string.maketrans(\"ATCG\",\"TAGC\"))\n",
    "    # Python 3.4 solution || you don't need to import anything :)\n",
    "    # return dna.translate(str.maketrans(\"ATCG\",\"TAGC\"))"
   ]
  },
  {
   "cell_type": "markdown",
   "id": "5a919d5e",
   "metadata": {},
   "source": [
    "Your task is to sort a given string. Each word in the string will contain a single number. This number is the position the word should have in the result.\n",
    "\n",
    "Note: Numbers can be from 1 to 9. So 1 will be the first word (not 0).\n",
    "\n",
    "If the input string is empty, return an empty string. The words in the input String will only contain valid consecutive numbers."
   ]
  },
  {
   "cell_type": "code",
   "execution_count": 365,
   "id": "610c3db3",
   "metadata": {},
   "outputs": [],
   "source": [
    "import re\n",
    "def order(sentence):\n",
    "    words = sentence.split()\n",
    "    dict_words = {}\n",
    "    # create dictionary with keys\n",
    "    for word in words:\n",
    "        for pos in word:\n",
    "            if pos.isdigit():\n",
    "                dict_words[pos]=word\n",
    "#                 dict_words[pos]=re.sub(r'[0-9]','',word) # remove digits from words\n",
    "    res = ' '.join(str(dict_words[pos]) for pos in sorted(dict_words.keys())) # sort values according to position\n",
    "    return res\n"
   ]
  },
  {
   "cell_type": "code",
   "execution_count": 366,
   "id": "f1aac330",
   "metadata": {},
   "outputs": [
    {
     "data": {
      "text/plain": [
       "'Thi1s is2 3a T4est'"
      ]
     },
     "execution_count": 366,
     "metadata": {},
     "output_type": "execute_result"
    }
   ],
   "source": [
    "order(\"is2 Thi1s T4est 3a\")"
   ]
  },
  {
   "cell_type": "code",
   "execution_count": 367,
   "id": "20601154",
   "metadata": {},
   "outputs": [],
   "source": [
    "def order(words):\n",
    "    return ' '.join(sorted(words.split(), key=lambda w:sorted(w)))"
   ]
  },
  {
   "cell_type": "code",
   "execution_count": 368,
   "id": "60e47700",
   "metadata": {},
   "outputs": [
    {
     "data": {
      "text/plain": [
       "'Thi1s is2 3a T4est'"
      ]
     },
     "execution_count": 368,
     "metadata": {},
     "output_type": "execute_result"
    }
   ],
   "source": [
    "order(\"is2 Thi1s T4est 3a\")"
   ]
  },
  {
   "cell_type": "code",
   "execution_count": 369,
   "id": "936edb56",
   "metadata": {},
   "outputs": [],
   "source": [
    "# Max From Common DataFrames\n",
    "# Input parameters\n",
    "# Two pandas.DataFrame objects\n",
    "\n",
    "# Task\n",
    "# Your function must return a new pandas.DataFrame with the same data and columns from the first parameter. For common columns in both inputs you must return the greater value of each cell for that column.\n",
    "\n",
    "# You must not modify the original inputs.\n",
    "\n",
    "# Input DataFrame will never be empty. The number rows of both inputs will be the same.\n",
    "\n",
    "# Examples\n",
    "# Inputs\n",
    "#    A    B    C\n",
    "# 0  2.5  2.0  2.0\n",
    "# 1  2.0  2.0  2.0\n",
    "#    C    B    D    E\n",
    "# 0  1.0  6.0  7.0  1.0\n",
    "# 1  8.5  1.0  9.0  1.0\n",
    "# Output\n",
    "#    A    B    C\n",
    "# 0  2.5  6.0  2.0\n",
    "# 1  2.0  2.0  8.5"
   ]
  },
  {
   "cell_type": "code",
   "execution_count": 390,
   "id": "774bfe95",
   "metadata": {},
   "outputs": [],
   "source": [
    "import pandas as pd\n",
    "df_a = pd.DataFrame([[2.5,2.0,2.0],[2.0,2.0,2.0]], columns=['A','B','C'])\n",
    "df_b = pd.DataFrame([[1.0,6.0,7.0,1.0],[8.5,1.0,9.0,1.0]], columns=['C','B','D','E'])"
   ]
  },
  {
   "cell_type": "code",
   "execution_count": 417,
   "id": "b7d545f0",
   "metadata": {},
   "outputs": [],
   "source": [
    "def max_common(df_a, df_b): \n",
    "    df_c = pd.concat([df_a, df_b]).max(level=0)\n",
    "    return df_c[df_a.columns]"
   ]
  },
  {
   "cell_type": "code",
   "execution_count": 419,
   "id": "c546a235",
   "metadata": {},
   "outputs": [
    {
     "name": "stderr",
     "output_type": "stream",
     "text": [
      "C:\\Users\\Starlord\\AppData\\Local\\Temp/ipykernel_15428/2123832366.py:2: FutureWarning: Using the level keyword in DataFrame and Series aggregations is deprecated and will be removed in a future version. Use groupby instead. df.median(level=1) should use df.groupby(level=1).median().\n",
      "  df_c = pd.concat([df_a, df_b]).max(level=0)\n"
     ]
    },
    {
     "data": {
      "text/html": [
       "<div>\n",
       "<style scoped>\n",
       "    .dataframe tbody tr th:only-of-type {\n",
       "        vertical-align: middle;\n",
       "    }\n",
       "\n",
       "    .dataframe tbody tr th {\n",
       "        vertical-align: top;\n",
       "    }\n",
       "\n",
       "    .dataframe thead th {\n",
       "        text-align: right;\n",
       "    }\n",
       "</style>\n",
       "<table border=\"1\" class=\"dataframe\">\n",
       "  <thead>\n",
       "    <tr style=\"text-align: right;\">\n",
       "      <th></th>\n",
       "      <th>A</th>\n",
       "      <th>B</th>\n",
       "      <th>C</th>\n",
       "    </tr>\n",
       "  </thead>\n",
       "  <tbody>\n",
       "    <tr>\n",
       "      <th>0</th>\n",
       "      <td>2.5</td>\n",
       "      <td>6.0</td>\n",
       "      <td>2.0</td>\n",
       "    </tr>\n",
       "    <tr>\n",
       "      <th>1</th>\n",
       "      <td>2.0</td>\n",
       "      <td>2.0</td>\n",
       "      <td>8.5</td>\n",
       "    </tr>\n",
       "  </tbody>\n",
       "</table>\n",
       "</div>"
      ],
      "text/plain": [
       "     A    B    C\n",
       "0  2.5  6.0  2.0\n",
       "1  2.0  2.0  8.5"
      ]
     },
     "execution_count": 419,
     "metadata": {},
     "output_type": "execute_result"
    }
   ],
   "source": [
    "max_common(df_a, df_b)"
   ]
  },
  {
   "cell_type": "code",
   "execution_count": 430,
   "id": "1b1aeb41",
   "metadata": {},
   "outputs": [],
   "source": [
    "def max_common(df_a, df_b):\n",
    "    return pd.concat([df_a, df_b]).filter(items=df_a.columns).groupby(level=0).max()"
   ]
  },
  {
   "cell_type": "code",
   "execution_count": 431,
   "id": "775cb661",
   "metadata": {},
   "outputs": [
    {
     "data": {
      "text/html": [
       "<div>\n",
       "<style scoped>\n",
       "    .dataframe tbody tr th:only-of-type {\n",
       "        vertical-align: middle;\n",
       "    }\n",
       "\n",
       "    .dataframe tbody tr th {\n",
       "        vertical-align: top;\n",
       "    }\n",
       "\n",
       "    .dataframe thead th {\n",
       "        text-align: right;\n",
       "    }\n",
       "</style>\n",
       "<table border=\"1\" class=\"dataframe\">\n",
       "  <thead>\n",
       "    <tr style=\"text-align: right;\">\n",
       "      <th></th>\n",
       "      <th>A</th>\n",
       "      <th>B</th>\n",
       "      <th>C</th>\n",
       "    </tr>\n",
       "  </thead>\n",
       "  <tbody>\n",
       "    <tr>\n",
       "      <th>0</th>\n",
       "      <td>2.5</td>\n",
       "      <td>6.0</td>\n",
       "      <td>2.0</td>\n",
       "    </tr>\n",
       "    <tr>\n",
       "      <th>1</th>\n",
       "      <td>2.0</td>\n",
       "      <td>2.0</td>\n",
       "      <td>8.5</td>\n",
       "    </tr>\n",
       "  </tbody>\n",
       "</table>\n",
       "</div>"
      ],
      "text/plain": [
       "     A    B    C\n",
       "0  2.5  6.0  2.0\n",
       "1  2.0  2.0  8.5"
      ]
     },
     "execution_count": 431,
     "metadata": {},
     "output_type": "execute_result"
    }
   ],
   "source": [
    "max_common(df_a, df_b)"
   ]
  },
  {
   "cell_type": "markdown",
   "id": "b2fbe15b",
   "metadata": {},
   "source": [
    "Write an algorithm that takes an array and moves all of the zeros to the end, preserving the order of the other elements."
   ]
  },
  {
   "cell_type": "code",
   "execution_count": 463,
   "id": "50ea5241",
   "metadata": {},
   "outputs": [],
   "source": [
    "def move_zeros(lst):\n",
    "    non_zero = [element for element in lst if element != 0]\n",
    "    zero = [element for element in lst if element == 0]\n",
    "    return non_zero + zero"
   ]
  },
  {
   "cell_type": "code",
   "execution_count": 464,
   "id": "e34ebebe",
   "metadata": {},
   "outputs": [
    {
     "data": {
      "text/plain": [
       "[1, 1, 2, 1, 3, 0, 0]"
      ]
     },
     "execution_count": 464,
     "metadata": {},
     "output_type": "execute_result"
    }
   ],
   "source": [
    "move_zeros([1, 0, 1, 2, 0, 1, 3])"
   ]
  },
  {
   "cell_type": "code",
   "execution_count": 465,
   "id": "f477c73c",
   "metadata": {},
   "outputs": [],
   "source": [
    "def move_zeros(array):\n",
    "    return sorted(array, key=lambda x: x==0 and type(x) is not bool)"
   ]
  },
  {
   "cell_type": "code",
   "execution_count": 466,
   "id": "03d84c1b",
   "metadata": {},
   "outputs": [
    {
     "data": {
      "text/plain": [
       "[1, 1, 2, 1, 3, 0, 0]"
      ]
     },
     "execution_count": 466,
     "metadata": {},
     "output_type": "execute_result"
    }
   ],
   "source": [
    "move_zeros([1, 0, 1, 2, 0, 1, 3])"
   ]
  },
  {
   "cell_type": "code",
   "execution_count": 470,
   "id": "de29a5f2",
   "metadata": {},
   "outputs": [],
   "source": [
    "# Given two arrays of strings a1 and a2 return a sorted array r in lexicographical order of the strings of a1 which are substrings of strings of a2.\n",
    "\n",
    "# Example 1:\n",
    "# a1 = [\"arp\", \"live\", \"strong\"]\n",
    "\n",
    "# a2 = [\"lively\", \"alive\", \"harp\", \"sharp\", \"armstrong\"]\n",
    "\n",
    "# returns [\"arp\", \"live\", \"strong\"]\n",
    "\n",
    "# Example 2:\n",
    "# a1 = [\"tarp\", \"mice\", \"bull\"]\n",
    "\n",
    "# a2 = [\"lively\", \"alive\", \"harp\", \"sharp\", \"armstrong\"]\n",
    "\n",
    "# returns []\n",
    "\n",
    "# Notes:\n",
    "# Arrays are written in \"general\" notation. See \"Your Test Cases\" for examples in your language.\n",
    "# In Shell bash a1 and a2 are strings. The return is a string where words are separated by commas.\n",
    "# Beware: In some languages r must be without duplicates."
   ]
  },
  {
   "cell_type": "code",
   "execution_count": 528,
   "id": "1928cd3f",
   "metadata": {},
   "outputs": [],
   "source": [
    "def in_array(array1, array2):\n",
    "    r = sorted(set([el for el in array1 for element in array2 if el in element]))\n",
    "    return(r)\n"
   ]
  },
  {
   "cell_type": "code",
   "execution_count": 529,
   "id": "1a822f83",
   "metadata": {},
   "outputs": [],
   "source": [
    "a1 = [\"live\", \"arp\", \"strong\"] \n",
    "a2 = [\"lively\", \"alive\", \"harp\", \"sharp\", \"armstrong\"]\n",
    "# r = ['arp', 'live', 'strong']\n"
   ]
  },
  {
   "cell_type": "code",
   "execution_count": 530,
   "id": "5b5dcdc9",
   "metadata": {},
   "outputs": [
    {
     "data": {
      "text/plain": [
       "['arp', 'live', 'strong']"
      ]
     },
     "execution_count": 530,
     "metadata": {},
     "output_type": "execute_result"
    }
   ],
   "source": [
    "in_array(a1, a2)  "
   ]
  },
  {
   "cell_type": "code",
   "execution_count": 531,
   "id": "a7f597be",
   "metadata": {},
   "outputs": [],
   "source": [
    "def in_array(array1, array2):\n",
    "    r = []\n",
    "    for element in array1:\n",
    "        for ele in array2:\n",
    "            if element in ele:\n",
    "                r.append(element)\n",
    "    return list(set(sorted(r)))"
   ]
  },
  {
   "cell_type": "code",
   "execution_count": 532,
   "id": "56259962",
   "metadata": {},
   "outputs": [
    {
     "data": {
      "text/plain": [
       "['live', 'arp', 'strong']"
      ]
     },
     "execution_count": 532,
     "metadata": {},
     "output_type": "execute_result"
    }
   ],
   "source": [
    "in_array(a1, a2)  "
   ]
  },
  {
   "cell_type": "code",
   "execution_count": 533,
   "id": "1d6beec9",
   "metadata": {},
   "outputs": [],
   "source": [
    "def in_array(a1, a2):\n",
    "    return sorted({sub for sub in a1 if any(sub in s for s in a2)})"
   ]
  },
  {
   "cell_type": "code",
   "execution_count": 534,
   "id": "bc1398e1",
   "metadata": {},
   "outputs": [
    {
     "data": {
      "text/plain": [
       "['arp', 'live', 'strong']"
      ]
     },
     "execution_count": 534,
     "metadata": {},
     "output_type": "execute_result"
    }
   ],
   "source": [
    "in_array(a1, a2)"
   ]
  },
  {
   "cell_type": "code",
   "execution_count": 535,
   "id": "49b48736",
   "metadata": {},
   "outputs": [],
   "source": [
    "# The Fibonacci numbers are the numbers in the following integer sequence (Fn):\n",
    "\n",
    "# 0, 1, 1, 2, 3, 5, 8, 13, 21, 34, 55, 89, 144, 233, ...\n",
    "\n",
    "# such as\n",
    "\n",
    "# F(n) = F(n-1) + F(n-2) with F(0) = 0 and F(1) = 1.\n",
    "\n",
    "# Given a number, say prod (for product), we search two Fibonacci numbers F(n) and F(n+1) verifying\n",
    "\n",
    "# F(n) * F(n+1) = prod.\n",
    "\n",
    "# Your function productFib takes an integer (prod) and returns an array:\n",
    "\n",
    "# [F(n), F(n+1), true] or {F(n), F(n+1), 1} or (F(n), F(n+1), True)\n",
    "# depending on the language if F(n) * F(n+1) = prod.\n",
    "\n",
    "# If you don't find two consecutive F(n) verifying F(n) * F(n+1) = prodyou will return\n",
    "\n",
    "# [F(n), F(n+1), false] or {F(n), F(n+1), 0} or (F(n), F(n+1), False)\n",
    "# F(n) being the smallest one such as F(n) * F(n+1) > prod.\n",
    "\n",
    "# Some Examples of Return:\n",
    "# (depend on the language)\n",
    "\n",
    "# productFib(714) # should return (21, 34, true), \n",
    "#                 # since F(8) = 21, F(9) = 34 and 714 = 21 * 34\n",
    "\n",
    "# productFib(800) # should return (34, 55, false), \n",
    "#                 # since F(8) = 21, F(9) = 34, F(10) = 55 and 21 * 34 < 800 < 34 * 55\n",
    "# -----\n",
    "# productFib(714) # should return [21, 34, true], \n",
    "# productFib(800) # should return [34, 55, false], \n",
    "# -----\n",
    "# productFib(714) # should return {21, 34, 1}, \n",
    "# productFib(800) # should return {34, 55, 0},        \n",
    "# -----\n",
    "# productFib(714) # should return {21, 34, true}, \n",
    "# productFib(800) # should return {34, 55, false}, \n",
    "# Note:\n",
    "# You can see examples for your language in \"Sample Tests\"."
   ]
  },
  {
   "cell_type": "markdown",
   "id": "e162caa1",
   "metadata": {},
   "source": [
    "Best Solution"
   ]
  },
  {
   "cell_type": "code",
   "execution_count": 417,
   "id": "923a91d0",
   "metadata": {},
   "outputs": [],
   "source": [
    "def productFib(prod):\n",
    "    a, b = 0, 1\n",
    "    while prod > a * b:\n",
    "        a, b = b, a + b\n",
    "        print(a,b)\n",
    "    return [a, b, prod == a * b]"
   ]
  },
  {
   "cell_type": "code",
   "execution_count": 418,
   "id": "b3acd6ab",
   "metadata": {},
   "outputs": [
    {
     "name": "stdout",
     "output_type": "stream",
     "text": [
      "1 1\n",
      "1 2\n",
      "2 3\n",
      "3 5\n",
      "5 8\n",
      "8 13\n"
     ]
    },
    {
     "data": {
      "text/plain": [
       "[8, 13, False]"
      ]
     },
     "execution_count": 418,
     "metadata": {},
     "output_type": "execute_result"
    }
   ],
   "source": [
    "productFib(100)"
   ]
  },
  {
   "cell_type": "markdown",
   "id": "1464d71c",
   "metadata": {},
   "source": [
    "Solution 2"
   ]
  },
  {
   "cell_type": "code",
   "execution_count": 333,
   "id": "c7a7b8f8",
   "metadata": {},
   "outputs": [],
   "source": [
    "# F(n) = F(n-1) + F(n-2) with F(0) = 0 and F(1) = 1.\n",
    "def fib(n):\n",
    "    if n <= 1:\n",
    "        return n\n",
    "    return fib(n-1) + fib(n-2)"
   ]
  },
  {
   "cell_type": "code",
   "execution_count": 334,
   "id": "f9af57c4",
   "metadata": {},
   "outputs": [
    {
     "data": {
      "text/plain": [
       "55"
      ]
     },
     "execution_count": 334,
     "metadata": {},
     "output_type": "execute_result"
    }
   ],
   "source": [
    "fib(10)"
   ]
  },
  {
   "cell_type": "code",
   "execution_count": 12,
   "id": "b01c33cb",
   "metadata": {},
   "outputs": [],
   "source": [
    "def fib_series(i):\n",
    "    return [fib(i) for i in range(i)]"
   ]
  },
  {
   "cell_type": "code",
   "execution_count": 42,
   "id": "fbeb10be",
   "metadata": {},
   "outputs": [],
   "source": [
    "fib_list = fib_series(30)"
   ]
  },
  {
   "cell_type": "code",
   "execution_count": null,
   "id": "beafc914",
   "metadata": {},
   "outputs": [],
   "source": [
    " l=[]\n",
    "    t = []\n",
    "    for i in range(0,len(fib_list)):\n",
    "        for j in range(i, len(fib_list)):\n",
    "            if fib_list[i] * fib_list[j] < prod:\n",
    "                l.append(fib_list[i])\n",
    "                l.append(fib_list[j])\n",
    "            elif fib_list[i] * fib_list[j] == prod:\n",
    "                t.append(fib_list[i])\n",
    "                t.append(fib_list[j])\n",
    "\n",
    "    if len(t) == 0:\n",
    "        t=[l[:][-1]]\n",
    "        elem = fib_list.index(t[0])\n",
    "        t.append(fib_list[elem+1])\n",
    "        t.append(False)\n",
    "    else:\n",
    "        t.append(True)\n",
    "    return t"
   ]
  },
  {
   "cell_type": "markdown",
   "id": "368578b3",
   "metadata": {},
   "source": [
    "Solution 3"
   ]
  },
  {
   "cell_type": "code",
   "execution_count": 411,
   "id": "cace4d15",
   "metadata": {},
   "outputs": [],
   "source": [
    "from functools import lru_cache\n",
    "\n",
    "@lru_cache(None)\n",
    "def fib(n):\n",
    "    if n in (0, 1):\n",
    "        return 1\n",
    "    if n & 1:  # if n is odd, it's faster than checking with modulo\n",
    "        return fib((n+1)//2 - 1) * (2*fib((n+1)//2) - fib((n+1)//2 - 1))\n",
    "    a, b = fib(n//2 - 1), fib(n//2)\n",
    "    return a**2 + b**2"
   ]
  },
  {
   "cell_type": "code",
   "execution_count": 409,
   "id": "e937e9ac",
   "metadata": {},
   "outputs": [],
   "source": [
    "target = 4895\n",
    "res = [[fib_list[i],fib_list[j],True] for i in range(0,len(fib_list)) for j in range(i,len(fib_list))  if fib_list[i]*fib_list[j] ==  target]\n",
    "res = [item for sublist in res for item in sublist]\n",
    "if len(res) ==0:\n",
    "    res=[[fib_list[i],fib_list[j]] for i in range(0,len(fib_list)) for j in range(i,len(fib_list))  if fib_list[i]*fib_list[j] <  target][:][-1][-1]\n",
    "    res_index = fib_list.index(res)\n",
    "    res = [res, fib_list[res_index+1],False ]"
   ]
  },
  {
   "cell_type": "code",
   "execution_count": 410,
   "id": "ca607889",
   "metadata": {},
   "outputs": [
    {
     "data": {
      "text/plain": [
       "[55, 89, True]"
      ]
     },
     "execution_count": 410,
     "metadata": {},
     "output_type": "execute_result"
    }
   ],
   "source": [
    "res"
   ]
  },
  {
   "cell_type": "code",
   "execution_count": 1,
   "id": "ee1cd36a",
   "metadata": {},
   "outputs": [],
   "source": [
    "# Write a function, persistence, that takes in a positive parameter num and returns its multiplicative persistence, which is the number of times you must multiply the digits in num until you reach a single digit.\n",
    "\n",
    "# For example (Input --> Output):\n",
    "\n",
    "# 39 --> 3 (because 3*9 = 27, 2*7 = 14, 1*4 = 4 and 4 has only one digit)\n",
    "# 999 --> 4 (because 9*9*9 = 729, 7*2*9 = 126, 1*2*6 = 12, and finally 1*2 = 2)\n",
    "# 4 --> 0 (because 4 is already a one-digit number)"
   ]
  },
  {
   "cell_type": "code",
   "execution_count": 160,
   "id": "2b1057e6",
   "metadata": {},
   "outputs": [],
   "source": [
    "import operator\n",
    "import functools\n",
    "def persistence(n):\n",
    "    i = True\n",
    "    count = 0\n",
    "    while i==True:\n",
    "        digits = [int(a) for a in str(n)]\n",
    "        if len(digits) == 1:\n",
    "            i = False\n",
    "            return count\n",
    "        n = functools.reduce(operator.mul, digits)\n",
    "        count+=1\n",
    "        "
   ]
  },
  {
   "cell_type": "code",
   "execution_count": 161,
   "id": "580b5a75",
   "metadata": {},
   "outputs": [
    {
     "data": {
      "text/plain": [
       "3"
      ]
     },
     "execution_count": 161,
     "metadata": {},
     "output_type": "execute_result"
    }
   ],
   "source": [
    "persistence(39)"
   ]
  },
  {
   "cell_type": "code",
   "execution_count": 164,
   "id": "253281c8",
   "metadata": {},
   "outputs": [],
   "source": [
    "import operator\n",
    "import functools\n",
    "\n",
    "def persistence(n):\n",
    "    i = 0\n",
    "    while n>=10:\n",
    "        n=functools.reduce(operator.mul,[int(x) for x in str(n)],1)\n",
    "        i+=1\n",
    "    return i"
   ]
  },
  {
   "cell_type": "code",
   "execution_count": 165,
   "id": "9462d8e7",
   "metadata": {},
   "outputs": [
    {
     "data": {
      "text/plain": [
       "3"
      ]
     },
     "execution_count": 165,
     "metadata": {},
     "output_type": "execute_result"
    }
   ],
   "source": [
    "persistence(39)"
   ]
  },
  {
   "cell_type": "code",
   "execution_count": null,
   "id": "98636884",
   "metadata": {},
   "outputs": [],
   "source": []
  }
 ],
 "metadata": {
  "kernelspec": {
   "display_name": "Python 3 (ipykernel)",
   "language": "python",
   "name": "python3"
  },
  "language_info": {
   "codemirror_mode": {
    "name": "ipython",
    "version": 3
   },
   "file_extension": ".py",
   "mimetype": "text/x-python",
   "name": "python",
   "nbconvert_exporter": "python",
   "pygments_lexer": "ipython3",
   "version": "3.9.13"
  }
 },
 "nbformat": 4,
 "nbformat_minor": 5
}
